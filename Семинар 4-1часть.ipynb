{
 "cells": [
  {
   "cell_type": "code",
   "execution_count": 8,
   "metadata": {},
   "outputs": [
    {
     "name": "stdout",
     "output_type": "stream",
     "text": [
      "Семинар № 4, Группа м201, Чикунова Александра. For, while, if\n"
     ]
    }
   ],
   "source": [
    "print(\"Семинар № 4, Группа м201, Чикунова Александра. For, while, if\")"
   ]
  },
  {
   "cell_type": "code",
   "execution_count": 14,
   "metadata": {},
   "outputs": [
    {
     "name": "stdout",
     "output_type": "stream",
     "text": [
      "i\n",
      "i\n",
      "i\n"
     ]
    }
   ],
   "source": [
    "for i in [1,2,3]:\n",
    "    print(\"i\")"
   ]
  },
  {
   "cell_type": "code",
   "execution_count": 13,
   "metadata": {
    "scrolled": true
   },
   "outputs": [
    {
     "name": "stdout",
     "output_type": "stream",
     "text": [
      "1\n",
      "2\n",
      "3\n"
     ]
    }
   ],
   "source": [
    "for k in [1,2,3]:\n",
    "    print(k)"
   ]
  },
  {
   "cell_type": "code",
   "execution_count": 11,
   "metadata": {},
   "outputs": [
    {
     "name": "stdout",
     "output_type": "stream",
     "text": [
      "Цикл for - переменная i - в квадратных скобках элементы\n"
     ]
    }
   ],
   "source": [
    "print(\"Цикл for - переменная i - в квадратных скобках элементы\")"
   ]
  },
  {
   "cell_type": "code",
   "execution_count": 15,
   "metadata": {},
   "outputs": [
    {
     "name": "stdout",
     "output_type": "stream",
     "text": [
      "7\n",
      "6\n",
      "3\n"
     ]
    }
   ],
   "source": [
    "for i in [7,6,3]:\n",
    "    print(i)"
   ]
  },
  {
   "cell_type": "code",
   "execution_count": 16,
   "metadata": {},
   "outputs": [
    {
     "name": "stdout",
     "output_type": "stream",
     "text": [
      "7\n",
      "жираф\n",
      "3\n"
     ]
    }
   ],
   "source": [
    "for i in [7,\"жираф\",3]:\n",
    "    print(i)"
   ]
  },
  {
   "cell_type": "code",
   "execution_count": 17,
   "metadata": {},
   "outputs": [
    {
     "name": "stdout",
     "output_type": "stream",
     "text": [
      "7\n",
      "14\n",
      "жираф\n",
      "жирафжираф\n",
      "3\n",
      "6\n"
     ]
    }
   ],
   "source": [
    "for i in [7,\"жираф\",3]:\n",
    "    print(i)\n",
    "    print (i*2)"
   ]
  },
  {
   "cell_type": "code",
   "execution_count": 18,
   "metadata": {},
   "outputs": [
    {
     "name": "stdout",
     "output_type": "stream",
     "text": [
      "14\n",
      "жирафжираф\n",
      "6\n"
     ]
    }
   ],
   "source": [
    "for i in [7,\"жираф\",3]:\n",
    "    print(i*2)"
   ]
  },
  {
   "cell_type": "code",
   "execution_count": 19,
   "metadata": {},
   "outputs": [
    {
     "name": "stdout",
     "output_type": "stream",
     "text": [
      "7\n",
      "14\n",
      "конец списка\n",
      "жираф\n",
      "жирафжираф\n",
      "конец списка\n",
      "3\n",
      "6\n",
      "конец списка\n"
     ]
    }
   ],
   "source": [
    "for i in [7,\"жираф\",3]:\n",
    "    print(i)\n",
    "    print (i*2)\n",
    "    print (\"конец списка\")"
   ]
  },
  {
   "cell_type": "code",
   "execution_count": 20,
   "metadata": {},
   "outputs": [
    {
     "name": "stdout",
     "output_type": "stream",
     "text": [
      "7\n",
      "14\n",
      "жираф\n",
      "жирафжираф\n",
      "3\n",
      "6\n",
      "конец списка\n"
     ]
    }
   ],
   "source": [
    "for i in [7,\"жираф\",3]:\n",
    "    print(i)\n",
    "    print (i*2)\n",
    "print (\"конец списка\")"
   ]
  },
  {
   "cell_type": "code",
   "execution_count": 21,
   "metadata": {},
   "outputs": [
    {
     "name": "stdout",
     "output_type": "stream",
     "text": [
      "7\n",
      "14\n",
      "49\n",
      "конец списка\n",
      "жираф\n",
      "жирафжираф\n",
      "жирафжирафжирафжирафжирафжирафжираф\n",
      "конец списка\n",
      "3\n",
      "6\n",
      "21\n",
      "конец списка\n"
     ]
    }
   ],
   "source": [
    "for i in [7,\"жираф\",3]:\n",
    "    print(i)\n",
    "    print (i*2)\n",
    "    print (i*7)\n",
    "    print (\"конец списка\")"
   ]
  },
  {
   "cell_type": "code",
   "execution_count": 22,
   "metadata": {},
   "outputs": [
    {
     "name": "stdout",
     "output_type": "stream",
     "text": [
      "7\n",
      "слон\n",
      "обезьяна\n",
      "енот\n",
      "конец списка\n",
      "жираф\n",
      "слон\n",
      "обезьяна\n",
      "енот\n",
      "конец списка\n",
      "3\n",
      "слон\n",
      "обезьяна\n",
      "енот\n",
      "конец списка\n"
     ]
    }
   ],
   "source": [
    "for i in [7,\"жираф\",3]:\n",
    "    print(i)\n",
    "    print (\"слон\")\n",
    "    print (\"обезьяна\")\n",
    "    print (\"енот\")\n",
    "    print (\"конец списка\")"
   ]
  },
  {
   "cell_type": "code",
   "execution_count": 24,
   "metadata": {},
   "outputs": [
    {
     "name": "stdout",
     "output_type": "stream",
     "text": [
      "7\n",
      "7\n",
      "14\n",
      "жираф\n",
      "жираф\n",
      "жирафжираф\n",
      "3\n",
      "3\n",
      "6\n",
      "конец списка\n"
     ]
    }
   ],
   "source": [
    "for i in [7,\"жираф\",3]:\n",
    "    print(i)\n",
    "    print (str(i))\n",
    "    print (i*2)\n",
    "print (\"конец списка\")"
   ]
  },
  {
   "cell_type": "code",
   "execution_count": 25,
   "metadata": {},
   "outputs": [
    {
     "name": "stdout",
     "output_type": "stream",
     "text": [
      "7\n",
      "7\n",
      "14\n",
      "жираф\n",
      "жираф\n",
      "жирафжираф\n",
      "3\n",
      "3\n",
      "6\n",
      "11\n",
      "11\n",
      "22\n",
      "112\n",
      "112\n",
      "224\n",
      "234\n",
      "234\n",
      "468\n",
      "543\n",
      "543\n",
      "1086\n",
      "654\n",
      "654\n",
      "1308\n",
      "765\n",
      "765\n",
      "1530\n",
      "890\n",
      "890\n",
      "1780\n",
      "конец списка\n"
     ]
    }
   ],
   "source": [
    "for i in [7,\"жираф\",3,11,112,234,543,654,765,890]:\n",
    "    print(i)\n",
    "    print (str(i))\n",
    "    print (i*2)\n",
    "print (\"конец списка\")"
   ]
  },
  {
   "cell_type": "code",
   "execution_count": 28,
   "metadata": {},
   "outputs": [
    {
     "name": "stdout",
     "output_type": "stream",
     "text": [
      "Система петлей - возможность работать процедурно! При этом конец списка смещён, он за циклом\n"
     ]
    }
   ],
   "source": [
    "print(\"Система петлей - возможность работать процедурно! При этом конец списка смещён, он за циклом\" )"
   ]
  },
  {
   "cell_type": "code",
   "execution_count": 30,
   "metadata": {},
   "outputs": [
    {
     "name": "stdout",
     "output_type": "stream",
     "text": [
      "Очень важно двоеточие, обозначение петли - for, in, смещение - пробел или Tab\n"
     ]
    }
   ],
   "source": [
    "print(\"Очень важно двоеточие, обозначение петли - for, in, смещение - пробел или Tab\")"
   ]
  },
  {
   "cell_type": "code",
   "execution_count": 33,
   "metadata": {},
   "outputs": [
    {
     "name": "stdout",
     "output_type": "stream",
     "text": [
      "Функция Range - создание набора элементов от 0 до значения - столько элементов (последний - число минус 1)\n"
     ]
    }
   ],
   "source": [
    "print(\"Функция Range - создание набора элементов от 0 до значения - столько элементов (последний - число минус 1)\")"
   ]
  },
  {
   "cell_type": "code",
   "execution_count": 34,
   "metadata": {},
   "outputs": [],
   "source": [
    "a=range(0,5)"
   ]
  },
  {
   "cell_type": "code",
   "execution_count": 36,
   "metadata": {},
   "outputs": [
    {
     "data": {
      "text/plain": [
       "range"
      ]
     },
     "execution_count": 36,
     "metadata": {},
     "output_type": "execute_result"
    }
   ],
   "source": [
    "type(a)"
   ]
  },
  {
   "cell_type": "code",
   "execution_count": 37,
   "metadata": {},
   "outputs": [
    {
     "name": "stdout",
     "output_type": "stream",
     "text": [
      "Типы данных - str, float, int, list, range\n"
     ]
    }
   ],
   "source": [
    "print(\"Типы данных - str, float, int, list, range\")"
   ]
  },
  {
   "cell_type": "code",
   "execution_count": 38,
   "metadata": {},
   "outputs": [
    {
     "data": {
      "text/plain": [
       "[0, 1, 2, 3, 4]"
      ]
     },
     "execution_count": 38,
     "metadata": {},
     "output_type": "execute_result"
    }
   ],
   "source": [
    "list(a)"
   ]
  },
  {
   "cell_type": "code",
   "execution_count": 40,
   "metadata": {},
   "outputs": [
    {
     "name": "stdout",
     "output_type": "stream",
     "text": [
      "0\n",
      "1\n",
      "2\n",
      "3\n",
      "4\n",
      "5\n",
      "6\n",
      "7\n",
      "8\n",
      "9\n",
      "10\n",
      "11\n",
      "12\n",
      "13\n",
      "14\n",
      "15\n",
      "16\n",
      "17\n",
      "18\n",
      "19\n"
     ]
    }
   ],
   "source": [
    "for i in list (range(20)):\n",
    "    print (i)"
   ]
  },
  {
   "cell_type": "code",
   "execution_count": 41,
   "metadata": {},
   "outputs": [
    {
     "name": "stdout",
     "output_type": "stream",
     "text": [
      "0\n",
      "1\n",
      "2\n",
      "3\n",
      "4\n",
      "5\n",
      "6\n",
      "7\n",
      "8\n",
      "9\n",
      "10\n",
      "11\n",
      "12\n",
      "13\n",
      "14\n",
      "15\n",
      "16\n",
      "17\n",
      "18\n",
      "19\n"
     ]
    }
   ],
   "source": [
    "for i in (range(20)):\n",
    "    print (i)"
   ]
  },
  {
   "cell_type": "code",
   "execution_count": 44,
   "metadata": {},
   "outputs": [
    {
     "name": "stdout",
     "output_type": "stream",
     "text": [
      "0\n",
      "1\n",
      "2\n",
      "3\n",
      "4\n",
      "5\n",
      "6\n",
      "7\n",
      "8\n",
      "9\n",
      "10\n",
      "11\n",
      "12\n",
      "13\n",
      "14\n",
      "15\n",
      "16\n",
      "17\n",
      "18\n",
      "19\n"
     ]
    }
   ],
   "source": [
    "for i in range(20):\n",
    "    print (i)"
   ]
  },
  {
   "cell_type": "code",
   "execution_count": 45,
   "metadata": {},
   "outputs": [
    {
     "name": "stdout",
     "output_type": "stream",
     "text": [
      "0\n",
      "1\n",
      "2\n",
      "3\n",
      "4\n",
      "5\n",
      "6\n",
      "7\n",
      "8\n",
      "9\n",
      "10\n",
      "11\n",
      "12\n",
      "13\n",
      "14\n",
      "15\n",
      "16\n",
      "17\n",
      "18\n",
      "19\n",
      "20\n",
      "21\n",
      "22\n",
      "23\n"
     ]
    }
   ],
   "source": [
    "for i in list (range(24)):\n",
    "    print (i)"
   ]
  },
  {
   "cell_type": "code",
   "execution_count": 47,
   "metadata": {},
   "outputs": [
    {
     "name": "stdout",
     "output_type": "stream",
     "text": [
      "1\n",
      "2\n",
      "3\n"
     ]
    }
   ],
   "source": [
    "for i in [1,2,3]:\n",
    "    print (i)"
   ]
  },
  {
   "cell_type": "code",
   "execution_count": 48,
   "metadata": {},
   "outputs": [
    {
     "name": "stdout",
     "output_type": "stream",
     "text": [
      "a==5 - проверить,равно ли, логическое равно и сравнение, a!=5 - \n"
     ]
    }
   ],
   "source": [
    "print (\"a==5 - проверить,равно ли, логическое равно и сравнение, a!=5 - \")"
   ]
  },
  {
   "cell_type": "code",
   "execution_count": 61,
   "metadata": {},
   "outputs": [
    {
     "name": "stdout",
     "output_type": "stream",
     "text": [
      "x не равно 5\n"
     ]
    }
   ],
   "source": [
    "if x==5:\n",
    "    print(x)\n",
    "else:\n",
    "    print(\"x не равно 5\")"
   ]
  },
  {
   "cell_type": "code",
   "execution_count": 62,
   "metadata": {},
   "outputs": [
    {
     "name": "stdout",
     "output_type": "stream",
     "text": [
      "3\n"
     ]
    }
   ],
   "source": [
    "if x!=5:\n",
    "    print(x)\n",
    "else:\n",
    "    print(\"x не равно 5\")"
   ]
  },
  {
   "cell_type": "code",
   "execution_count": 63,
   "metadata": {},
   "outputs": [],
   "source": [
    "x=3"
   ]
  },
  {
   "cell_type": "code",
   "execution_count": 66,
   "metadata": {},
   "outputs": [
    {
     "name": "stdout",
     "output_type": "stream",
     "text": [
      "if... else, == or !=, or <, or <=, or >, or >=\n"
     ]
    }
   ],
   "source": [
    "print (\"if... else, == or !=, or <, or <=, or >, or >=\")"
   ]
  },
  {
   "cell_type": "code",
   "execution_count": 68,
   "metadata": {},
   "outputs": [
    {
     "name": "stdout",
     "output_type": "stream",
     "text": [
      "if... else, == or !=, or <, or <=, or >, or >=\n"
     ]
    }
   ],
   "source": [
    "print (\"if... else, == or !=, or <, or <=, or >, or >=\", sep=\" \")"
   ]
  },
  {
   "cell_type": "code",
   "execution_count": 69,
   "metadata": {},
   "outputs": [
    {
     "name": "stdout",
     "output_type": "stream",
     "text": [
      "if... else, == or !=, or <, or <=, or >, or >= "
     ]
    }
   ],
   "source": [
    "print (\"if... else, == or !=, or <, or <=, or >, or >=\", end=\" \")"
   ]
  },
  {
   "cell_type": "code",
   "execution_count": 71,
   "metadata": {},
   "outputs": [
    {
     "name": "stdout",
     "output_type": "stream",
     "text": [
      "0\n",
      "2\n",
      "4\n",
      "6\n",
      "8\n",
      "10\n",
      "12\n",
      "14\n",
      "16\n",
      "18\n",
      "20\n",
      "22\n",
      "24\n",
      "26\n",
      "28\n",
      "30\n",
      "32\n",
      "34\n",
      "36\n",
      "38\n",
      "40\n",
      "42\n",
      "44\n",
      "46\n",
      "48\n",
      "50\n"
     ]
    }
   ],
   "source": [
    "for i in range(100):\n",
    "    if i%2==0:\n",
    "        if i<=50:\n",
    "            print(i)"
   ]
  },
  {
   "cell_type": "code",
   "execution_count": 73,
   "metadata": {},
   "outputs": [
    {
     "name": "stdout",
     "output_type": "stream",
     "text": [
      "Арифметические операции: %2==0 - проверка на делимость, равен ли остаток 0; // - остаток от деления\n"
     ]
    }
   ],
   "source": [
    "print(\"Арифметические операции: %2==0 - проверка на делимость, равен ли остаток 0; // - остаток от деления\")"
   ]
  },
  {
   "cell_type": "code",
   "execution_count": 74,
   "metadata": {},
   "outputs": [
    {
     "name": "stdout",
     "output_type": "stream",
     "text": [
      "0\n",
      "1\n"
     ]
    }
   ],
   "source": [
    "for i in range(100):\n",
    "    if i//2==0:\n",
    "        if i<=50:\n",
    "            print(i)"
   ]
  },
  {
   "cell_type": "code",
   "execution_count": 75,
   "metadata": {},
   "outputs": [
    {
     "data": {
      "text/plain": [
       "2.142857142857143"
      ]
     },
     "execution_count": 75,
     "metadata": {},
     "output_type": "execute_result"
    }
   ],
   "source": [
    "15/7"
   ]
  },
  {
   "cell_type": "code",
   "execution_count": 79,
   "metadata": {},
   "outputs": [
    {
     "name": "stdout",
     "output_type": "stream",
     "text": [
      "целая часть от деления\n"
     ]
    }
   ],
   "source": [
    "15//7\n",
    "print (\"целая часть от деления\")"
   ]
  },
  {
   "cell_type": "code",
   "execution_count": 81,
   "metadata": {},
   "outputs": [
    {
     "data": {
      "text/plain": [
       "15"
      ]
     },
     "execution_count": 81,
     "metadata": {},
     "output_type": "execute_result"
    }
   ],
   "source": [
    "7*(15//7)+15%7"
   ]
  },
  {
   "cell_type": "code",
   "execution_count": 80,
   "metadata": {},
   "outputs": [
    {
     "name": "stdout",
     "output_type": "stream",
     "text": [
      "остаток от деления\n"
     ]
    }
   ],
   "source": [
    "15%7\n",
    "print (\"остаток от деления\")"
   ]
  },
  {
   "cell_type": "code",
   "execution_count": 87,
   "metadata": {},
   "outputs": [
    {
     "name": "stdout",
     "output_type": "stream",
     "text": [
      "0\n",
      "1\n"
     ]
    }
   ],
   "source": [
    "for i in range(100):\n",
    "    if i//2==0:\n",
    "        if i<=50:\n",
    "            print(i)"
   ]
  },
  {
   "cell_type": "code",
   "execution_count": 96,
   "metadata": {},
   "outputs": [],
   "source": [
    "i=0"
   ]
  },
  {
   "cell_type": "code",
   "execution_count": 97,
   "metadata": {},
   "outputs": [
    {
     "name": "stdout",
     "output_type": "stream",
     "text": [
      "0\n",
      "5\n",
      "15\n",
      "35\n",
      "75\n"
     ]
    }
   ],
   "source": [
    "while i<100:\n",
    "    print(i)\n",
    "    i+=i+5"
   ]
  },
  {
   "cell_type": "code",
   "execution_count": null,
   "metadata": {},
   "outputs": [],
   "source": []
  },
  {
   "cell_type": "code",
   "execution_count": null,
   "metadata": {},
   "outputs": [],
   "source": []
  },
  {
   "cell_type": "code",
   "execution_count": null,
   "metadata": {},
   "outputs": [],
   "source": []
  }
 ],
 "metadata": {
  "kernelspec": {
   "display_name": "Python 3",
   "language": "python",
   "name": "python3"
  },
  "language_info": {
   "codemirror_mode": {
    "name": "ipython",
    "version": 3
   },
   "file_extension": ".py",
   "mimetype": "text/x-python",
   "name": "python",
   "nbconvert_exporter": "python",
   "pygments_lexer": "ipython3",
   "version": "3.6.11"
  }
 },
 "nbformat": 4,
 "nbformat_minor": 4
}
